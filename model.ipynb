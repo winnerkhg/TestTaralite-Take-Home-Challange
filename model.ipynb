{
 "cells": [
  {
   "cell_type": "code",
   "execution_count": 1,
   "metadata": {
    "collapsed": true
   },
   "outputs": [],
   "source": [
    "import numpy\n",
    "import pandas\n",
    "import sklearn.ensemble\n",
    "import sklearn.model_selection"
   ]
  },
  {
   "cell_type": "code",
   "execution_count": 2,
   "metadata": {
    "collapsed": true
   },
   "outputs": [],
   "source": [
    "def load_data(file_name):\n",
    "    \"\"\"Loads data from a CSV file.\"\"\"\n",
    "    data = pandas.read_csv(file_name)\n",
    "    # Sets the first column name,\n",
    "    # it is missing in the CSV data.\n",
    "    columns = list(data)\n",
    "    columns[0] = 'id'\n",
    "    data.columns = columns\n",
    "    return data"
   ]
  },
  {
   "cell_type": "code",
   "execution_count": 3,
   "metadata": {
    "collapsed": true
   },
   "outputs": [],
   "source": [
    "def fill_data(data):\n",
    "    \"\"\"Fills-in the missing values in place.\"\"\"\n",
    "    for column in ('MonthlyIncome', 'NumberOfDependents'):\n",
    "        # We use a replacement value outside the original interval.\n",
    "        data[column].fillna(-1, inplace=True)"
   ]
  },
  {
   "cell_type": "code",
   "execution_count": 4,
   "metadata": {
    "collapsed": true
   },
   "outputs": [],
   "source": [
    "def save_data(data, file_name):\n",
    "    \"\"\"Saves a Kaggle submission from processed data.\"\"\"\n",
    "    with open(file_name, 'w') as stream:\n",
    "        stream.write('Id,Probability\\n')\n",
    "        for index, row in data.iterrows():\n",
    "            line = str(int(row['id'])) + ',' + str(row['Probability'])\n",
    "            stream.write(line + '\\n')"
   ]
  },
  {
   "cell_type": "code",
   "execution_count": 5,
   "metadata": {
    "collapsed": true
   },
   "outputs": [],
   "source": [
    "def vectorize(data):\n",
    "    \"\"\"Creates input and output vectors to fit/predict a model.\"\"\"\n",
    "    columns = list(data)[2:]\n",
    "    x = data.as_matrix(columns=columns)\n",
    "    y = data['SeriousDlqin2yrs'].values\n",
    "    return x, y"
   ]
  },
  {
   "cell_type": "code",
   "execution_count": 6,
   "metadata": {
    "collapsed": true
   },
   "outputs": [],
   "source": [
    "def predict(x_train, y_train, x_test, model):\n",
    "    \"\"\"Predicts the probability of serious delinquency.\"\"\"\n",
    "    model.fit(x_train, y_train)\n",
    "    y_predict = model.predict(x_test)\n",
    "    # Fixes the probabilities outside the [0, 1] interval.\n",
    "    y_predict[y_predict < 0] = 0\n",
    "    y_predict[y_predict > 1] = 1\n",
    "    return y_predict"
   ]
  },
  {
   "cell_type": "code",
   "execution_count": 7,
   "metadata": {
    "collapsed": true
   },
   "outputs": [],
   "source": [
    "def auroc_score(x, y, model):\n",
    "    \"\"\"Estimates the area under ROC curve of a model.\"\"\"\n",
    "    # We use k-fold cross-validation and average the scores.\n",
    "    kfold = sklearn.model_selection.KFold(n_splits=5)\n",
    "    scores = []\n",
    "    for train_index, test_index in kfold.split(x):\n",
    "        x_train = x[train_index]\n",
    "        y_train = y[train_index]\n",
    "        x_test = x[test_index]\n",
    "        y_test = y[test_index]\n",
    "        score = sklearn.metrics.roc_auc_score(\n",
    "            y_test, predict(x_train, y_train, x_test, model))\n",
    "        scores.append(score)\n",
    "    return numpy.mean(scores)"
   ]
  },
  {
   "cell_type": "code",
   "execution_count": null,
   "metadata": {
    "collapsed": true
   },
   "outputs": [],
   "source": [
    "# Training dataset\n",
    "training_data = load_data('in/cs-training.csv')\n",
    "fill_data(training_data)\n",
    "x_train, y_train = vectorize(training_data)\n",
    "\n",
    "# Test dataset\n",
    "test_data = load_data('in/cs-test.csv')\n",
    "fill_data(test_data)\n",
    "x_test, y_test = vectorize(test_data)\n",
    "\n",
    "model = model = sklearn.ensemble.BaggingRegressor(\n",
    "    base_estimator=sklearn.ensemble.GradientBoostingRegressor(\n",
    "        max_depth=4, n_estimators=130),\n",
    "    n_estimators=30)"
   ]
  },
  {
   "cell_type": "code",
   "execution_count": null,
   "metadata": {
    "collapsed": true
   },
   "outputs": [],
   "source": [
    "# Estimates the model score\n",
    "print(auroc_score(x_train, y_train, model))"
   ]
  },
  {
   "cell_type": "code",
   "execution_count": null,
   "metadata": {
    "collapsed": true
   },
   "outputs": [],
   "source": [
    "# Creates a output\n",
    "test_data['Probability'] = predict(x_train, y_train, x_test, model)\n",
    "save_data(test_data, 'out/hasil.csv')"
   ]
  },
  {
   "cell_type": "code",
   "execution_count": null,
   "metadata": {
    "collapsed": true
   },
   "outputs": [],
   "source": []
  }
 ],
 "metadata": {
  "kernelspec": {
   "display_name": "Python 2",
   "language": "python",
   "name": "python2"
  },
  "language_info": {
   "codemirror_mode": {
    "name": "ipython",
    "version": 2
   },
   "file_extension": ".py",
   "mimetype": "text/x-python",
   "name": "python",
   "nbconvert_exporter": "python",
   "pygments_lexer": "ipython2",
   "version": "2.7.14"
  }
 },
 "nbformat": 4,
 "nbformat_minor": 2
}
