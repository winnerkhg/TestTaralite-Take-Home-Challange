{
 "cells": [
  {
   "cell_type": "code",
   "execution_count": 1,
   "metadata": {
    "collapsed": true
   },
   "outputs": [],
   "source": [
    "import matplotlib.pyplot\n",
    "import numpy\n",
    "import pandas"
   ]
  },
  {
   "cell_type": "code",
   "execution_count": 2,
   "metadata": {
    "collapsed": true
   },
   "outputs": [],
   "source": [
    "def create_bins(interval, bins_width):\n",
    "    \"\"\"Covers an interval with bins of the desired width.\"\"\"\n",
    "    bound = interval[0] - 0.5 * bins_width\n",
    "    while bound < interval[1]:\n",
    "        yield bound\n",
    "        bound += bins_width\n",
    "    yield bound\n"
   ]
  },
  {
   "cell_type": "code",
   "execution_count": 3,
   "metadata": {
    "collapsed": true
   },
   "outputs": [],
   "source": [
    "def create_axis(bins):\n",
    "    \"\"\"Creates an axis using the center of each bin.\"\"\"\n",
    "    i = 1\n",
    "    while i < len(bins):\n",
    "        yield 0.5 * (bins[i - 1] + bins[i])\n",
    "        i += 1\n"
   ]
  },
  {
   "cell_type": "code",
   "execution_count": 4,
   "metadata": {
    "collapsed": true
   },
   "outputs": [],
   "source": [
    "def plot_compare(training_data, test_data, column, bins_width, interval=None):\n",
    "    \"\"\"Compares the distribution of a feature between the datasets.\"\"\"\n",
    "    # Creates the bins and the axis\n",
    "    data = numpy.concatenate([\n",
    "        training_data[column].values, test_data[column].values])\n",
    "    if interval is None:\n",
    "        interval = (min(data), max(data))\n",
    "    bins = list(create_bins(interval, bins_width))\n",
    "    axis = list(create_axis(bins))\n",
    "    # Creates the histograms (training and test)\n",
    "    training_histogram, _ = numpy.histogram(\n",
    "        training_data[column].dropna().values, bins=bins)\n",
    "    test_histogram, _ = numpy.histogram(\n",
    "        test_data[column].dropna().values, bins=bins)\n",
    "    # Plots and saves\n",
    "    figure, subplots = matplotlib.pyplot.subplots(2, 1)\n",
    "    subplots[0].set_title(column)\n",
    "    subplots[0].bar(axis, training_histogram, bins_width, color='green')\n",
    "    subplots[0].set_ylim(ymin=0)\n",
    "    subplots[0].set_ylabel('training')\n",
    "    subplots[1].bar(axis, test_histogram, bins_width, color='blue')\n",
    "    subplots[1].set_ylim(ymin=0)\n",
    "    subplots[1].set_ylabel('test')\n",
    "    figure.tight_layout()\n",
    "    figure.savefig('plots/compare-' + column + '.png')"
   ]
  },
  {
   "cell_type": "code",
   "execution_count": 5,
   "metadata": {
    "collapsed": true
   },
   "outputs": [],
   "source": [
    "def plot_analyze(data, column, bins_width, interval=None):\n",
    "    \"\"\"Analyzes the distribution of delinquents for a feature.\"\"\"\n",
    "    # Creates the bins and the axis\n",
    "    if interval is None:\n",
    "        interval = (min(data[column].values), max(data[column].values))\n",
    "    bins = list(create_bins(interval, bins_width))\n",
    "    axis = list(create_axis(bins))\n",
    "    # Creates the histograms (non-delinquent and delinquent)\n",
    "    timely_histogram, _ = numpy.histogram(\n",
    "        data.query('SeriousDlqin2yrs == 0')[column].dropna().values, bins=bins)\n",
    "    delinquent_histogram, _ = numpy.histogram(\n",
    "        data.query('SeriousDlqin2yrs == 1')[column].dropna().values, bins=bins)\n",
    "    # Derives the proportion of delinquents in each bin\n",
    "    delinquent_proportion = []\n",
    "    for i in range(len(axis)):\n",
    "        timely_count = timely_histogram[i]\n",
    "        delinquent_count = delinquent_histogram[i]\n",
    "        if delinquent_count == 0: proportion = 0\n",
    "        else: proportion = delinquent_count / (timely_count + delinquent_count)\n",
    "        delinquent_proportion.append(proportion)\n",
    "    # Plots and saves\n",
    "    figure, subplots = matplotlib.pyplot.subplots(3, 1)\n",
    "    subplots[0].set_title(column)\n",
    "    subplots[0].bar(axis, timely_histogram, bins_width, color='blue')\n",
    "    subplots[0].set_ylim(ymin=0)\n",
    "    subplots[0].set_ylabel('non-delinquent')\n",
    "    subplots[1].bar(axis, delinquent_histogram, bins_width, color='red')\n",
    "    subplots[1].set_ylim(ymin=0)\n",
    "    subplots[1].set_ylabel('delinquent')\n",
    "    subplots[2].plot(axis, delinquent_proportion, color='black')\n",
    "    subplots[2].set_ylim(ymin=0)\n",
    "    subplots[2].set_ylabel('delinquent proportion')\n",
    "    figure.tight_layout()\n",
    "    figure.savefig('plots/analyze-' + column + '.png')\n",
    "\n",
    "\n",
    "# Loads the datasets\n",
    "training_data = pandas.read_csv('in/cs-training.csv')\n",
    "test_data = pandas.read_csv('in/cs-test.csv')\n",
    "\n",
    "# Compares the datasets\n",
    "plot_compare(training_data, test_data, 'age', 1)\n",
    "plot_compare(training_data, test_data, 'DebtRatio', 0.02, interval=(0, 1.2))\n",
    "plot_compare(training_data, test_data, 'MonthlyIncome', 500, interval=(0, 25000))\n",
    "plot_compare(training_data, test_data, 'NumberOfDependents', 1, interval=(0, 10))\n",
    "plot_compare(training_data, test_data, 'NumberRealEstateLoansOrLines', 1, interval=(0, 15))\n",
    "plot_compare(training_data, test_data, 'NumberOfOpenCreditLinesAndLoans', 1, interval=(0, 40))\n",
    "plot_compare(training_data, test_data, 'RevolvingUtilizationOfUnsecuredLines', 0.02, interval=(0, 1.5))\n",
    "plot_compare(training_data, test_data, 'NumberOfTime30-59DaysPastDueNotWorse', 1, interval=(0, 15))\n",
    "plot_compare(training_data, test_data, 'NumberOfTime60-89DaysPastDueNotWorse', 1, interval=(0, 15))\n",
    "plot_compare(training_data, test_data, 'NumberOfTimes90DaysLate', 1, interval=(0, 15))\n",
    "\n",
    "# Analyses the features\n",
    "plot_analyze(training_data, 'age', 1)\n",
    "plot_analyze(training_data, 'DebtRatio', 0.02, interval=(0, 1.2))\n",
    "plot_analyze(training_data, 'MonthlyIncome', 500, interval=(0, 25000))\n",
    "plot_analyze(training_data, 'NumberOfDependents', 1, interval=(0, 10))\n",
    "plot_analyze(training_data, 'NumberRealEstateLoansOrLines', 1, interval=(0, 15))\n",
    "plot_analyze(training_data, 'NumberOfOpenCreditLinesAndLoans', 1, interval=(0, 40))\n",
    "plot_analyze(training_data, 'RevolvingUtilizationOfUnsecuredLines', 0.02, interval=(0, 1.5))\n",
    "plot_analyze(training_data, 'NumberOfTime30-59DaysPastDueNotWorse', 1, interval=(0, 15))\n",
    "plot_analyze(training_data, 'NumberOfTime60-89DaysPastDueNotWorse', 1, interval=(0, 15))\n",
    "plot_analyze(training_data, 'NumberOfTimes90DaysLate', 1, interval=(0, 15))\n"
   ]
  },
  {
   "cell_type": "code",
   "execution_count": null,
   "metadata": {
    "collapsed": true
   },
   "outputs": [],
   "source": []
  }
 ],
 "metadata": {
  "kernelspec": {
   "display_name": "Python 2",
   "language": "python",
   "name": "python2"
  },
  "language_info": {
   "codemirror_mode": {
    "name": "ipython",
    "version": 2
   },
   "file_extension": ".py",
   "mimetype": "text/x-python",
   "name": "python",
   "nbconvert_exporter": "python",
   "pygments_lexer": "ipython2",
   "version": "2.7.14"
  }
 },
 "nbformat": 4,
 "nbformat_minor": 2
}
